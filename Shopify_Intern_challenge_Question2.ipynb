{
  "nbformat": 4,
  "nbformat_minor": 0,
  "metadata": {
    "colab": {
      "name": "Shopify_Intern_challenge_Question2.ipynb",
      "provenance": []
    },
    "kernelspec": {
      "name": "python3",
      "display_name": "Python 3"
    },
    "language_info": {
      "name": "python"
    }
  },
  "cells": [
    {
      "cell_type": "markdown",
      "source": [
        "Question 1\n",
        "\n",
        "\n",
        "---\n",
        "How many orders were shipped by Speedy Express in total?\n"
      ],
      "metadata": {
        "id": "OIhqgC0CqP77"
      }
    },
    {
      "cell_type": "code",
      "execution_count": null,
      "metadata": {
        "id": "2F80CTxrqFvE"
      },
      "outputs": [],
      "source": [
        "SELECT COUNT(OrderID) FROM\n",
        "Orders INNER JOIN Shippers \n",
        "ON Orders.ShipperID = Shippers.ShipperID\n",
        "WHERE ShipperName = 'Speedy Express'"
      ]
    },
    {
      "cell_type": "markdown",
      "source": [
        "The answer is : **54**"
      ],
      "metadata": {
        "id": "PuBQP9ZVtqMQ"
      }
    },
    {
      "cell_type": "markdown",
      "source": [
        "Question 2 \n",
        "\n",
        "\n",
        "---\n",
        "\n",
        "What is the last name of the employee with the most orders?\n",
        "\n"
      ],
      "metadata": {
        "id": "_-MyFvcJq-f3"
      }
    },
    {
      "cell_type": "code",
      "source": [
        "SELECT Employees.LastName\n",
        "FROM Employees\n",
        "WHERE (SELECT Orders.EmployeeID\n",
        "FROM Orders\n",
        "GROUP BY Orders.EmployeeID\n",
        "ORDER BY COUNT(Orders.EmployeeID) DESC\n",
        "LIMIT 1) == Employees.EmployeeID;\n",
        "\n"
      ],
      "metadata": {
        "id": "OuJfez-KsWMc"
      },
      "execution_count": null,
      "outputs": []
    },
    {
      "cell_type": "markdown",
      "source": [
        "The answer is **Peacock**"
      ],
      "metadata": {
        "id": "g9CgZ-qFtyUR"
      }
    },
    {
      "cell_type": "markdown",
      "source": [
        "Question 3\n",
        "\n",
        "\n",
        "---\n",
        "\n",
        "What product was ordered the most by customers in Germany?\n"
      ],
      "metadata": {
        "id": "-rDT-LNwtgRx"
      }
    },
    {
      "cell_type": "code",
      "source": [
        "SELECT Products.ProductName, Customers.Country, COUNT(Orders.OrderID) AS OrderCount\n",
        "FROM Customers\n",
        "LEFT JOIN Orders ON Customers.CustomerID == Orders.CustomerID\n",
        "LEFT JOIN OrderDetails ON Orders.OrderID == OrderDetails.OrderID\n",
        "LEFT JOIN Products ON OrderDetails.ProductID == Products.ProductID\n",
        "WHERE Country == 'Germany'\n",
        "GROUP BY ProductName \n",
        "ORDER BY OrderCount DESC\n",
        "LIMIT 1;\n"
      ],
      "metadata": {
        "id": "lluQGhxGtfv8"
      },
      "execution_count": null,
      "outputs": []
    },
    {
      "cell_type": "markdown",
      "source": [
        "The answer is **Gorgonzola Telino**"
      ],
      "metadata": {
        "id": "MLvC8HRZzAKW"
      }
    },
    {
      "cell_type": "code",
      "source": [
        ""
      ],
      "metadata": {
        "id": "AJqfVwpuzGjz"
      },
      "execution_count": null,
      "outputs": []
    }
  ]
}